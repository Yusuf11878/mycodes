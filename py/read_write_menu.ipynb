{
 "cells": [
  {
   "cell_type": "code",
   "execution_count": 1,
   "id": "36736ae6",
   "metadata": {},
   "outputs": [
    {
     "ename": "FileNotFoundError",
     "evalue": "[Errno 2] No such file or directory: 'omer.txt'",
     "output_type": "error",
     "traceback": [
      "\u001b[1;31m---------------------------------------------------------------------------\u001b[0m",
      "\u001b[1;31mFileNotFoundError\u001b[0m                         Traceback (most recent call last)",
      "Input \u001b[1;32mIn [1]\u001b[0m, in \u001b[0;36m<cell line: 2>\u001b[1;34m()\u001b[0m\n\u001b[0;32m      1\u001b[0m \u001b[38;5;66;03m# omer.txt dosyasını okuma\u001b[39;00m\n\u001b[1;32m----> 2\u001b[0m \u001b[38;5;28;01mwith\u001b[39;00m \u001b[38;5;28;43mopen\u001b[39;49m\u001b[43m(\u001b[49m\u001b[38;5;124;43m\"\u001b[39;49m\u001b[38;5;124;43momer.txt\u001b[39;49m\u001b[38;5;124;43m\"\u001b[39;49m\u001b[43m,\u001b[49m\u001b[43m \u001b[49m\u001b[38;5;124;43m\"\u001b[39;49m\u001b[38;5;124;43mr\u001b[39;49m\u001b[38;5;124;43m\"\u001b[39;49m\u001b[43m,\u001b[49m\u001b[43m \u001b[49m\u001b[43mencoding\u001b[49m\u001b[38;5;241;43m=\u001b[39;49m\u001b[38;5;124;43m\"\u001b[39;49m\u001b[38;5;124;43mutf-8\u001b[39;49m\u001b[38;5;124;43m\"\u001b[39;49m\u001b[43m)\u001b[49m \u001b[38;5;28;01mas\u001b[39;00m dosya:\n\u001b[0;32m      3\u001b[0m     icerik \u001b[38;5;241m=\u001b[39m dosya\u001b[38;5;241m.\u001b[39mread()\n\u001b[0;32m      5\u001b[0m \u001b[38;5;28mprint\u001b[39m(\u001b[38;5;124m\"\u001b[39m\u001b[38;5;124mDosya içeriği:\u001b[39m\u001b[38;5;124m\"\u001b[39m)\n",
      "\u001b[1;31mFileNotFoundError\u001b[0m: [Errno 2] No such file or directory: 'omer.txt'"
     ]
    }
   ],
   "source": [
    "# Phyton İle Dosya Okuma Ve Yazma"
   ]
  },
  {
   "cell_type": "code",
   "execution_count": 2,
   "id": "deef1ec2",
   "metadata": {},
   "outputs": [
    {
     "name": "stdout",
     "output_type": "stream",
     "text": [
      "Dosya içeriği:\n",
      "\n",
      "\"\tHello World\t\"\n"
     ]
    }
   ],
   "source": [
    "# Dosya yolu (Windows için)\n",
    "dosya_yolu = r\"C:\\Users\\ogrenci\\Desktop\\omer.txt\"\n",
    "\n",
    "# Dosyayı oku\n",
    "with open(dosya_yolu, \"r\", encoding=\"utf-8\") as dosya:\n",
    "    icerik = dosya.read()\n",
    "\n",
    "# İçeriği yazdır\n",
    "print(\"Dosya içeriği:\")\n",
    "print(icerik)"
   ]
  },
  {
   "cell_type": "code",
   "execution_count": 3,
   "id": "f704a850",
   "metadata": {},
   "outputs": [],
   "source": [
    "dosya_yolu = r\"C:\\Users\\ogrenci\\Desktop\\omer.txt\"\n",
    "\n",
    "with open(dosya_yolu, \"w\", encoding=\"utf-8\") as dosya:\n",
    "    dosya.write(\"My name is ysuf.\\n\")\n",
    "    dosya.write(\"HELLO MARS.\\n\")"
   ]
  },
  {
   "cell_type": "code",
   "execution_count": null,
   "id": "e88d03e6",
   "metadata": {},
   "outputs": [
    {
     "name": "stdout",
     "output_type": "stream",
     "text": [
      "📄 METİN BELGESİ UYGULAMASI\n",
      "1 - Metin belgesine yazı yaz\n",
      "2 - Metin belgesini oku\n",
      "3 - Çıkış yap\n",
      "👉 Bir seçenek girin (1/2/3): 1\n",
      "📥 Dosyaya yazmak istediğiniz metni girin: yusuf babapşro\n",
      "✅ Yazma işlemi tamamlandı.\n",
      "\n",
      "📄 METİN BELGESİ UYGULAMASI\n",
      "1 - Metin belgesine yazı yaz\n",
      "2 - Metin belgesini oku\n",
      "3 - Çıkış yap\n",
      "👉 Bir seçenek girin (1/2/3): 2\n",
      "\n",
      "📖 Dosya içeriği:\n",
      "\n",
      "My name is ysuf.\n",
      "HELLO MARS.\n",
      "yusuf babapşro\n",
      "\n",
      "📄 METİN BELGESİ UYGULAMASI\n",
      "1 - Metin belgesine yazı yaz\n",
      "2 - Metin belgesini oku\n",
      "3 - Çıkış yap\n",
      "👉 Bir seçenek girin (1/2/3): 2\n",
      "\n",
      "📖 Dosya içeriği:\n",
      "\n",
      "My name is ysuf.\n",
      "HELLO MARS.\n",
      "yusuf babapşro\n",
      "\n",
      "📄 METİN BELGESİ UYGULAMASI\n",
      "1 - Metin belgesine yazı yaz\n",
      "2 - Metin belgesini oku\n",
      "3 - Çıkış yap\n"
     ]
    }
   ],
   "source": [
    "import os\n",
    "\n",
    "# Dosya yolu (istersen değiştirilebilir)\n",
    "dosya_yolu = r\"C:\\Users\\ogrenci\\Desktop\\omer.txt\"\n",
    "\n",
    "def menu_goster():\n",
    "    print(\"📄 METİN BELGESİ UYGULAMASI\")\n",
    "    print(\"1 - Metin belgesine yazı yaz\")\n",
    "    print(\"2 - Metin belgesini oku\")\n",
    "    print(\"3 - Çıkış yap\")\n",
    "\n",
    "def yazma_islemi():\n",
    "    metin = input(\"📥 Dosyaya yazmak istediğiniz metni girin: \")\n",
    "    with open(dosya_yolu, \"a\", encoding=\"utf-8\") as dosya:\n",
    "        dosya.write(metin + \"\\n\")\n",
    "    print(\"✅ Yazma işlemi tamamlandı.\\n\")\n",
    "\n",
    "def okuma_islemi():\n",
    "    if os.path.exists(dosya_yolu):\n",
    "        print(\"\\n📖 Dosya içeriği:\\n\")\n",
    "        with open(dosya_yolu, \"r\", encoding=\"utf-8\") as dosya:\n",
    "            print(dosya.read())\n",
    "    else:\n",
    "        print(\"⚠️ Dosya bulunamadı.\\n\")\n",
    "\n",
    "# Ana program döngüsü\n",
    "while True:\n",
    "    menu_goster()\n",
    "    secim = input(\"👉 Bir seçenek girin (1/2/3): \")\n",
    "\n",
    "    if secim == \"1\":\n",
    "        yazma_islemi()\n",
    "    elif secim == \"2\":\n",
    "        okuma_islemi()\n",
    "    elif secim == \"3\":\n",
    "        print(\"👋 Programdan çıkılıyor. Güle güle!\")\n",
    "        break\n",
    "    else:\n",
    "        print(\"❌ Geçersiz seçim! Lütfen 1, 2 veya 3 girin.\\n\")\n"
   ]
  },
  {
   "cell_type": "code",
   "execution_count": null,
   "id": "0dcdf135",
   "metadata": {},
   "outputs": [],
   "source": []
  }
 ],
 "metadata": {
  "kernelspec": {
   "display_name": "Python 3 (ipykernel)",
   "language": "python",
   "name": "python3"
  },
  "language_info": {
   "codemirror_mode": {
    "name": "ipython",
    "version": 3
   },
   "file_extension": ".py",
   "mimetype": "text/x-python",
   "name": "python",
   "nbconvert_exporter": "python",
   "pygments_lexer": "ipython3",
   "version": "3.9.12"
  }
 },
 "nbformat": 4,
 "nbformat_minor": 5
}
